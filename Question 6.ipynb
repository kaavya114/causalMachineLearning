{
 "cells": [
  {
   "cell_type": "code",
   "execution_count": 1,
   "metadata": {},
   "outputs": [],
   "source": [
    "import torch\n",
    "import numpy as np\n",
    "import pyro\n",
    "import pyro.distributions as dist\n",
    "from pyro.infer import Importance, EmpiricalMarginal\n",
    "import matplotlib.pyplot as plt\n",
    "%matplotlib inline\n",
    "\n",
    "pyro.set_rng_seed(101)"
   ]
  },
  {
   "cell_type": "code",
   "execution_count": 2,
   "metadata": {},
   "outputs": [
    {
     "name": "stdout",
     "output_type": "stream",
     "text": [
      "{'A': tensor(1), 'S': tensor(1), 'E': tensor(0), 'O': tensor(0), 'R': tensor(1), 'T': tensor(1)}\n"
     ]
    }
   ],
   "source": [
    "A_alias = ['young','adult','old']\n",
    "S_alias = ['M','F']\n",
    "E_alias = ['high','uni']\n",
    "O_alias = ['emp','self']\n",
    "R_alias = ['small','big']\n",
    "T_alias = ['car','train','other']\n",
    "\n",
    "A_prob = torch.tensor([0.48,0.36,0.16])\n",
    "S_prob = torch.tensor([0.45,0.55])\n",
    "E_prob = torch.tensor([[[0.81,0.19], [0.72,0.28], [0.89,0.11]],\n",
    "                     [[0.16,0.84], [0.64, 0.36], [0.84,0.16]]])\n",
    "O_prob = torch.tensor([[0.98,0.02], [0.97,0.03]])\n",
    "R_prob = torch.tensor([[0.28,0.72], [0.06,0.94]])\n",
    "T_prob = torch.tensor([[[0.55,0.37,0.08], [0.73,0.02,0.25]],\n",
    "                     [[0.71,0.15,0.14], [0.68,0.16,0.16]]])\n",
    "\n",
    "def model():\n",
    "    A = pyro.sample(\"A\", dist.Categorical(probs=A_prob))\n",
    "    S = pyro.sample(\"S\", dist.Categorical(probs=S_prob))\n",
    "    E = pyro.sample(\"E\", dist.Categorical(probs=E_prob[S][A]))\n",
    "    O = pyro.sample(\"O\", dist.Categorical(probs=O_prob[E]))\n",
    "    R = pyro.sample(\"R\", dist.Categorical(probs=R_prob[E]))\n",
    "    T = pyro.sample(\"T\", dist.Categorical(probs=T_prob[R][O]))\n",
    "    return{'A': A,'S': S,'E': E,'O': O,'R': R,'T': T}\n",
    "\n",
    "print(model())"
   ]
  },
  {
   "cell_type": "code",
   "execution_count": 3,
   "metadata": {},
   "outputs": [],
   "source": [
    "conditioned_model = pyro.condition(model, data={'E':torch.tensor(1)})"
   ]
  },
  {
   "cell_type": "code",
   "execution_count": 4,
   "metadata": {},
   "outputs": [
    {
     "data": {
      "text/plain": [
       "Text(0.5, 1.0, 'P(T | E = uni) - Importance Sampling')"
      ]
     },
     "execution_count": 4,
     "metadata": {},
     "output_type": "execute_result"
    },
    {
     "data": {
      "image/png": "[encoded data removed]",
      "text/plain": [
       "<Figure size 432x288 with 1 Axes>"
      ]
     },
     "metadata": {
      "needs_background": "light"
     },
     "output_type": "display_data"
    }
   ],
   "source": [
    "T_posterior = pyro.infer.Importance(conditioned_model, num_samples=1000).run()\n",
    "T_marginal = EmpiricalMarginal(T_posterior,\"T\")\n",
    "T_samples = [T_marginal().item() for _ in range(1000)]\n",
    "T_unique, T_counts = np.unique(T_samples, return_counts=True)\n",
    "\n",
    "plt.bar(T_unique, T_counts, align='center', alpha=0.5)\n",
    "plt.xticks(T_unique, T_alias)\n",
    "plt.ylabel('count')\n",
    "plt.xlabel('T')\n",
    "plt.title('P(T | E = uni) - Importance Sampling')"
   ]
  },
  {
   "cell_type": "code",
   "execution_count": 5,
   "metadata": {},
   "outputs": [],
   "source": [
    "conditioned_model2 = pyro.condition(model, data={'O':torch.tensor(1), 'R':torch.tensor(1) })"
   ]
  },
  {
   "cell_type": "code",
   "execution_count": 6,
   "metadata": {},
   "outputs": [
    {
     "data": {
      "text/plain": [
       "Text(0.5, 1.0, 'P(A | O = self, R = big) - Importance Sampling')"
      ]
     },
     "execution_count": 6,
     "metadata": {},
     "output_type": "execute_result"
    },
    {
     "data": {
      "image/png": "[encoded data removed]",
      "text/plain": [
       "<Figure size 432x288 with 1 Axes>"
      ]
     },
     "metadata": {
      "needs_background": "light"
     },
     "output_type": "display_data"
    }
   ],
   "source": [
    "A_posterior = pyro.infer.Importance(conditioned_model2, num_samples=1000).run()\n",
    "A_marginal = EmpiricalMarginal(A_posterior,\"T\")\n",
    "A_samples = [A_marginal().item() for _ in range(1000)]\n",
    "A_unique, A_counts = np.unique(A_samples, return_counts=True)\n",
    "\n",
    "plt.bar(A_unique, A_counts, align='center', alpha=0.5)\n",
    "plt.xticks(A_unique, A_alias)\n",
    "plt.ylabel('count')\n",
    "plt.xlabel('A')\n",
    "plt.title('P(A | O = self, R = big) - Importance Sampling')"
   ]
  }
 ],
 "metadata": {
  "kernelspec": {
   "display_name": "Python 3",
   "language": "python",
   "name": "python3"
  },
  "language_info": {
   "codemirror_mode": {
    "name": "ipython",
    "version": 3
   },
   "file_extension": ".py",
   "mimetype": "text/x-python",
   "name": "python",
   "nbconvert_exporter": "python",
   "pygments_lexer": "ipython3",
   "version": "3.7.6"
  }
 },
 "nbformat": 4,
 "nbformat_minor": 4
}
