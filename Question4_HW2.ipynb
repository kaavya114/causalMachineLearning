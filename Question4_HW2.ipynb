{
 "cells": [
  {
   "cell_type": "code",
   "execution_count": 52,
   "metadata": {},
   "outputs": [],
   "source": [
    "from statistics import mean\n",
    "import torch\n",
    "import numpy as np\n",
    "import pyro\n",
    "import pyro.distributions as dist\n",
    "from pyro.infer import Importance, EmpiricalMarginal\n",
    "import matplotlib.pyplot as plt\n",
    "%matplotlib inline\n",
    "\n",
    "pyro.set_rng_seed(101)"
   ]
  },
  {
   "cell_type": "code",
   "execution_count": 53,
   "metadata": {},
   "outputs": [],
   "source": [
    "def model():\n",
    "    A_alias = ['off', 'on']\n",
    "    B_alias = ['off', 'on']\n",
    "    C_alias = ['off', 'on']\n",
    "\n",
    "    A_prob = torch.tensor([0.5,0.5])\n",
    "    A = pyro.sample(\"A\", dist.Categorical(probs = A_prob))\n",
    "    B_prob = torch.tensor([[0.8,0.2],[0.1,0.9]])\n",
    "    B = pyro.sample(\"B\", dist.Categorical(probs = B_prob[A]))\n",
    "    C_prob = torch.tensor([[[0.9,0.1],[0.99,0.01]], [[0.1,0.9],[0.4,0.6]]])\n",
    "    C = pyro.sample(\"C\", dist.Categorical(probs = C_prob[B][A]))\n",
    "    return{'A': A, 'B': B, 'C': C}"
   ]
  },
  {
   "cell_type": "code",
   "execution_count": 54,
   "metadata": {},
   "outputs": [
    {
     "data": {
      "text/plain": [
       "0.732"
      ]
     },
     "execution_count": 54,
     "metadata": {},
     "output_type": "execute_result"
    }
   ],
   "source": [
    "#P(A = on | B = on, C = on)\n",
    "conditioned_model = pyro.condition(model, data = {'B':torch.tensor(1),'C':torch.tensor(1)})\n",
    "A_posterior = pyro.infer.Importance(conditioned_model, num_samples=1000).run()\n",
    "A_marginal = EmpiricalMarginal(A_posterior,\"A\")\n",
    "A_samples = [A_marginal().item() for _ in range(1000)]\n",
    "A_unique, A_counts = np.unique(A_samples, return_counts=True)\n",
    "A_counts[1]/sum(A_counts)"
   ]
  },
  {
   "cell_type": "code",
   "execution_count": 55,
   "metadata": {},
   "outputs": [
    {
     "data": {
      "text/plain": [
       "0.407"
      ]
     },
     "execution_count": 55,
     "metadata": {},
     "output_type": "execute_result"
    }
   ],
   "source": [
    "#P(A = on | do(B = on), C = on)\n",
    "b_on = pyro.do(model, data={'B': torch.tensor(1)})\n",
    "b_on_conditioned = pyro.condition(b_on, data={'C': torch.tensor(1)})\n",
    "A_posterior = pyro.infer.Importance(b_on_conditioned, num_samples=1000).run()\n",
    "A_marginal = EmpiricalMarginal(A_posterior,\"A\")\n",
    "A_samples = [A_marginal().item() for _ in range(1000)]\n",
    "A_unique, A_counts = np.unique(A_samples, return_counts=True)\n",
    "A_counts[1]/sum(A_counts)"
   ]
  },
  {
   "cell_type": "code",
   "execution_count": null,
   "metadata": {},
   "outputs": [],
   "source": []
  }
 ],
 "metadata": {
  "kernelspec": {
   "display_name": "Python 3",
   "language": "python",
   "name": "python3"
  },
  "language_info": {
   "codemirror_mode": {
    "name": "ipython",
    "version": 3
   },
   "file_extension": ".py",
   "mimetype": "text/x-python",
   "name": "python",
   "nbconvert_exporter": "python",
   "pygments_lexer": "ipython3",
   "version": "3.7.6"
  }
 },
 "nbformat": 4,
 "nbformat_minor": 4
}
